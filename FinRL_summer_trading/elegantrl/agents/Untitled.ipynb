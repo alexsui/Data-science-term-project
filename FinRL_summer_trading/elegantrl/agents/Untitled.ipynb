{
 "cells": [
  {
   "cell_type": "code",
   "execution_count": 13,
   "id": "1b78617a-5cf1-4760-aa7c-c5021e96ff6a",
   "metadata": {},
   "outputs": [],
   "source": [
    "import numpy as np\n",
    "import pandas as pd"
   ]
  },
  {
   "cell_type": "code",
   "execution_count": 46,
   "id": "f9b23bb1-24fc-4280-a41b-ae07a974a85c",
   "metadata": {},
   "outputs": [],
   "source": [
    "corr = np.random.rand(100,100)\n",
    "x = np.arange(10)\n",
    "y = np.arange(1,11)"
   ]
  },
  {
   "cell_type": "code",
   "execution_count": 53,
   "id": "c787c957-6fb5-441b-8f7b-e07ae98b1ff7",
   "metadata": {},
   "outputs": [
    {
     "data": {
      "text/plain": [
       "array([0, 1, 2, 3, 4, 5, 6, 7, 8, 9])"
      ]
     },
     "execution_count": 53,
     "metadata": {},
     "output_type": "execute_result"
    }
   ],
   "source": [
    "x"
   ]
  },
  {
   "cell_type": "code",
   "execution_count": 54,
   "id": "0cd67da2-5c7a-41f2-b92e-28ff9c5fc421",
   "metadata": {},
   "outputs": [
    {
     "data": {
      "text/plain": [
       "array([ 1,  2,  3,  4,  5,  6,  7,  8,  9, 10])"
      ]
     },
     "execution_count": 54,
     "metadata": {},
     "output_type": "execute_result"
    }
   ],
   "source": [
    "y"
   ]
  },
  {
   "cell_type": "code",
   "execution_count": 52,
   "id": "60fdf424-0418-46fb-a6d4-df0d0739aafb",
   "metadata": {},
   "outputs": [
    {
     "name": "stdout",
     "output_type": "stream",
     "text": [
      "0.6330315102553766 0.06470007724064242\n"
     ]
    }
   ],
   "source": [
    "print(corr[0,1],corr[1,2])"
   ]
  },
  {
   "cell_type": "code",
   "execution_count": 55,
   "id": "06177d8d-b0f0-4315-9840-8dbd70c120ee",
   "metadata": {},
   "outputs": [
    {
     "data": {
      "text/plain": [
       "array([0.63303151, 0.06470008, 0.58291947, 0.84868459, 0.53061158,\n",
       "       0.51309139, 0.07826821, 0.12935572, 0.95158615, 0.64157274])"
      ]
     },
     "execution_count": 55,
     "metadata": {},
     "output_type": "execute_result"
    }
   ],
   "source": [
    "corr[x,y]"
   ]
  },
  {
   "cell_type": "code",
   "execution_count": null,
   "id": "ca3fac21-079d-40b2-9767-a3db4fa29518",
   "metadata": {},
   "outputs": [],
   "source": []
  },
  {
   "cell_type": "code",
   "execution_count": 51,
   "id": "666c1e93-aa4a-4a2d-8cea-da17ccffe544",
   "metadata": {},
   "outputs": [
    {
     "data": {
      "text/plain": [
       "array([0.63303151, 0.06470008, 0.58291947, 0.84868459, 0.53061158,\n",
       "       0.51309139, 0.07826821, 0.12935572, 0.95158615, 0.64157274])"
      ]
     },
     "execution_count": 51,
     "metadata": {},
     "output_type": "execute_result"
    }
   ],
   "source": []
  },
  {
   "cell_type": "code",
   "execution_count": 39,
   "id": "13ba24b0-5174-4a4e-80e5-742cd381f3de",
   "metadata": {},
   "outputs": [
    {
     "data": {
      "text/plain": [
       "array([0, 1, 2, 3, 4, 5, 6, 7, 8, 9])"
      ]
     },
     "execution_count": 39,
     "metadata": {},
     "output_type": "execute_result"
    }
   ],
   "source": [
    "x"
   ]
  },
  {
   "cell_type": "code",
   "execution_count": 40,
   "id": "3e61b31b-ccdc-445c-a9fc-9d4e7c67dce0",
   "metadata": {},
   "outputs": [
    {
     "data": {
      "text/plain": [
       "array([ 1,  2,  3,  4,  5,  6,  7,  8,  9, 10])"
      ]
     },
     "execution_count": 40,
     "metadata": {},
     "output_type": "execute_result"
    }
   ],
   "source": [
    "y"
   ]
  },
  {
   "cell_type": "code",
   "execution_count": 35,
   "id": "c8e9764c-00e2-464a-8a56-a4cd60afda67",
   "metadata": {},
   "outputs": [
    {
     "data": {
      "text/plain": [
       "array([[0.70162612, 0.24585622],\n",
       "       [0.24585622, 0.96092332],\n",
       "       [0.96092332, 0.1436273 ],\n",
       "       [0.1436273 , 0.90633877],\n",
       "       [0.90633877, 0.05703238],\n",
       "       [0.05703238, 0.22270719],\n",
       "       [0.22270719, 0.10887609],\n",
       "       [0.10887609, 0.69631956],\n",
       "       [0.69631956, 0.59771358],\n",
       "       [0.59771358, 0.93479322]])"
      ]
     },
     "execution_count": 35,
     "metadata": {},
     "output_type": "execute_result"
    }
   ],
   "source": [
    "np.take(corr,[x,y]).T"
   ]
  },
  {
   "cell_type": "code",
   "execution_count": 36,
   "id": "cdd2de31-96f1-44d9-92d7-b8dfe51bc032",
   "metadata": {},
   "outputs": [
    {
     "data": {
      "text/plain": [
       "array([[0.70162612, 0.24585622, 0.96092332, 0.1436273 , 0.90633877,\n",
       "        0.05703238, 0.22270719, 0.10887609, 0.69631956, 0.59771358],\n",
       "       [0.93479322, 0.5747711 , 0.07045811, 0.25295692, 0.56396296,\n",
       "        0.90577833, 0.62041782, 0.30935442, 0.93104273, 0.54281431],\n",
       "       [0.74457437, 0.39952463, 0.61805911, 0.41736057, 0.17186194,\n",
       "        0.57215684, 0.89717387, 0.71309923, 0.434164  , 0.02248955],\n",
       "       [0.59682363, 0.95240724, 0.4837095 , 0.75319937, 0.65917391,\n",
       "        0.90040569, 0.83043314, 0.64920344, 0.5227467 , 0.3309544 ],\n",
       "       [0.78786702, 0.12179591, 0.6153591 , 0.74489296, 0.36062063,\n",
       "        0.81818091, 0.40956625, 0.41672637, 0.30183699, 0.9622575 ],\n",
       "       [0.91892145, 0.2624197 , 0.52399626, 0.80330632, 0.17407355,\n",
       "        0.72683083, 0.54823097, 0.92568707, 0.19589795, 0.30948484],\n",
       "       [0.33402635, 0.0083915 , 0.7226777 , 0.64141496, 0.82926744,\n",
       "        0.27666462, 0.66466452, 0.44901266, 0.8400802 , 0.21496102],\n",
       "       [0.60802992, 0.79168193, 0.68935744, 0.95621964, 0.90810751,\n",
       "        0.49541522, 0.05803651, 0.30114589, 0.66613876, 0.68099962],\n",
       "       [0.92386799, 0.89618196, 0.9945832 , 0.38647148, 0.96063477,\n",
       "        0.72656344, 0.54928334, 0.94283277, 0.21071602, 0.2591696 ],\n",
       "       [0.07884551, 0.95362886, 0.91674868, 0.57265689, 0.11715915,\n",
       "        0.78372226, 0.42020279, 0.30526134, 0.86224622, 0.48084077]])"
      ]
     },
     "execution_count": 36,
     "metadata": {},
     "output_type": "execute_result"
    }
   ],
   "source": [
    "corr"
   ]
  },
  {
   "cell_type": "code",
   "execution_count": null,
   "id": "31cb35ba-a06f-4611-a705-602c1899a038",
   "metadata": {},
   "outputs": [],
   "source": []
  }
 ],
 "metadata": {
  "kernelspec": {
   "display_name": "Python 3",
   "language": "python",
   "name": "python3"
  },
  "language_info": {
   "codemirror_mode": {
    "name": "ipython",
    "version": 3
   },
   "file_extension": ".py",
   "mimetype": "text/x-python",
   "name": "python",
   "nbconvert_exporter": "python",
   "pygments_lexer": "ipython3",
   "version": "3.8.8"
  }
 },
 "nbformat": 4,
 "nbformat_minor": 5
}
